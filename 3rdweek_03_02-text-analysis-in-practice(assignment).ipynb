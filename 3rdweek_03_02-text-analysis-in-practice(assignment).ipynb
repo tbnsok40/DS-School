{
 "cells": [
  {
   "cell_type": "markdown",
   "metadata": {
    "collapsed": true
   },
   "source": [
    "## 네이버 뉴스 데이터를 분석하기\n",
    "\n",
    "이번 데이터는 네이버 뉴스 http://news.naver.com 에 있는 신문기사를 분석하는 작업입니다.\n",
    "\n",
    "네이버에는 1990년도부터 2018년도까지의 총 100기가가 넘는 뉴스 데이터를 보유하고 있습니다. 오늘의 업무는 이 데이터 중 1990년도의 뉴스 데이터만을 가져와, 뉴스 기사를 정리하거나 특징을 추출하는 작업을 진행하겠습니다.\n",
    "\n",
    "분석은 저번 시간에 실습했던 내용과 오늘 배운 내용에 더불어, 판다스의 [Working with Text Data](https://pandas.pydata.org/pandas-docs/stable/text.html) 페이지를 적극적으로 참고하는 것을 권장드립니다. 그럼 좋은 결과 있기를 기대하겠습니다!\n"
   ]
  },
  {
   "cell_type": "code",
   "execution_count": 1,
   "metadata": {
    "collapsed": true
   },
   "outputs": [],
   "source": [
    "import pandas as pd"
   ]
  },
  {
   "cell_type": "markdown",
   "metadata": {},
   "source": [
    "## Load Dataset"
   ]
  },
  {
   "cell_type": "code",
   "execution_count": 2,
   "metadata": {},
   "outputs": [
    {
     "name": "stdout",
     "output_type": "stream",
     "text": [
      "(71193, 3)\n"
     ]
    },
    {
     "data": {
      "text/html": [
       "<div>\n",
       "<style>\n",
       "    .dataframe thead tr:only-child th {\n",
       "        text-align: right;\n",
       "    }\n",
       "\n",
       "    .dataframe thead th {\n",
       "        text-align: left;\n",
       "    }\n",
       "\n",
       "    .dataframe tbody tr th {\n",
       "        vertical-align: top;\n",
       "    }\n",
       "</style>\n",
       "<table border=\"1\" class=\"dataframe\">\n",
       "  <thead>\n",
       "    <tr style=\"text-align: right;\">\n",
       "      <th></th>\n",
       "      <th>company</th>\n",
       "      <th>content</th>\n",
       "      <th>written_at</th>\n",
       "    </tr>\n",
       "  </thead>\n",
       "  <tbody>\n",
       "    <tr>\n",
       "      <th>0</th>\n",
       "      <td>대전일보</td>\n",
       "      <td>롯데, 갤러리아, 세이등 지역 3대 백화점이 이번주부터 일제히 대부분의 브랜드가 참...</td>\n",
       "      <td>1990-01-01 10:55:00</td>\n",
       "    </tr>\n",
       "    <tr>\n",
       "      <th>1</th>\n",
       "      <td>대전일보</td>\n",
       "      <td>새 해가 되면 우리는 새로운 한 살을 '띠'로 먹는다. 그리고 수많은 새 띠가 탄생...</td>\n",
       "      <td>1990-01-01 10:55:00</td>\n",
       "    </tr>\n",
       "    <tr>\n",
       "      <th>2</th>\n",
       "      <td>대전일보</td>\n",
       "      <td>우리나라 주식·채권형 펀드 규모가 매우 영세할 뿐아니라 자금유입도 부진해 기업의 자...</td>\n",
       "      <td>1990-01-01 10:55:00</td>\n",
       "    </tr>\n",
       "    <tr>\n",
       "      <th>3</th>\n",
       "      <td>대전일보</td>\n",
       "      <td>\"올해는 시·군·구 병무조직이 폐지되고 전자병무청이 개설되는 등 병무행정이 크게 변...</td>\n",
       "      <td>1990-01-01 10:55:00</td>\n",
       "    </tr>\n",
       "    <tr>\n",
       "      <th>4</th>\n",
       "      <td>대전일보</td>\n",
       "      <td>살고 싶어도 함께 더 살 수 없는 2001년은 삭풍에 실려 떠나고 새해가 도착하였습...</td>\n",
       "      <td>1990-01-01 10:55:00</td>\n",
       "    </tr>\n",
       "  </tbody>\n",
       "</table>\n",
       "</div>"
      ],
      "text/plain": [
       "  company                                            content  \\\n",
       "0    대전일보  롯데, 갤러리아, 세이등 지역 3대 백화점이 이번주부터 일제히 대부분의 브랜드가 참...   \n",
       "1    대전일보  새 해가 되면 우리는 새로운 한 살을 '띠'로 먹는다. 그리고 수많은 새 띠가 탄생...   \n",
       "2    대전일보  우리나라 주식·채권형 펀드 규모가 매우 영세할 뿐아니라 자금유입도 부진해 기업의 자...   \n",
       "3    대전일보  \"올해는 시·군·구 병무조직이 폐지되고 전자병무청이 개설되는 등 병무행정이 크게 변...   \n",
       "4    대전일보  살고 싶어도 함께 더 살 수 없는 2001년은 삭풍에 실려 떠나고 새해가 도착하였습...   \n",
       "\n",
       "            written_at  \n",
       "0  1990-01-01 10:55:00  \n",
       "1  1990-01-01 10:55:00  \n",
       "2  1990-01-01 10:55:00  \n",
       "3  1990-01-01 10:55:00  \n",
       "4  1990-01-01 10:55:00  "
      ]
     },
     "execution_count": 2,
     "metadata": {},
     "output_type": "execute_result"
    }
   ],
   "source": [
    "data = pd.read_csv(\"data/news-1990.csv\")\n",
    "\n",
    "print(data.shape)\n",
    "data.head()"
   ]
  },
  {
   "cell_type": "markdown",
   "metadata": {},
   "source": [
    "## 실습(초급)"
   ]
  },
  {
   "cell_type": "markdown",
   "metadata": {},
   "source": [
    "** 1. 다음 단어가 들어가있는 데이터를 색인해주세요. 1) 대회 2) 금메달 **"
   ]
  },
  {
   "cell_type": "code",
   "execution_count": 3,
   "metadata": {},
   "outputs": [],
   "source": [
    "# write your code here!"
   ]
  },
  {
   "cell_type": "code",
   "execution_count": 4,
   "metadata": {},
   "outputs": [],
   "source": [
    "# write your code here!"
   ]
  },
  {
   "cell_type": "markdown",
   "metadata": {},
   "source": [
    "** 2. 1) 대회 또는 2) 금메달이라는 단어 둘 중 하나만 들어간 신문기사를 색인해주세요. **"
   ]
  },
  {
   "cell_type": "code",
   "execution_count": 5,
   "metadata": {},
   "outputs": [],
   "source": [
    "# write your code here!"
   ]
  },
  {
   "cell_type": "markdown",
   "metadata": {},
   "source": [
    "** 3. 전체 텍스트의 길이를 구해서, 길이가 30 미만인 데이터는 무시해주세요. **"
   ]
  },
  {
   "cell_type": "code",
   "execution_count": 6,
   "metadata": {},
   "outputs": [],
   "source": [
    "# write your code here!"
   ]
  },
  {
   "cell_type": "markdown",
   "metadata": {},
   "source": [
    "** 4. 신문사별로 \"호재\" 라는 단어가 포함된 신문기사를 사용한 횟수를 출력해주세요. **"
   ]
  },
  {
   "cell_type": "code",
   "execution_count": 7,
   "metadata": {},
   "outputs": [],
   "source": [
    "# write your code here!"
   ]
  },
  {
   "cell_type": "markdown",
   "metadata": {},
   "source": [
    "** 5. '럭키금성'이라는 단어를 LG로 바꿔주세요. **"
   ]
  },
  {
   "cell_type": "code",
   "execution_count": 8,
   "metadata": {},
   "outputs": [],
   "source": [
    "# write your code here!"
   ]
  },
  {
   "cell_type": "markdown",
   "metadata": {},
   "source": [
    "** 6. '태도'라는 단어가 들어간 뉴스기사만 출력해주세요. **"
   ]
  },
  {
   "cell_type": "code",
   "execution_count": 9,
   "metadata": {},
   "outputs": [],
   "source": [
    "# write your code here!"
   ]
  },
  {
   "cell_type": "markdown",
   "metadata": {},
   "source": [
    "** 7. '은행'이라는 단어와 '대출'이라는 단어가 들어간 뉴스기사만 출력해주세요. **"
   ]
  },
  {
   "cell_type": "code",
   "execution_count": 10,
   "metadata": {},
   "outputs": [],
   "source": [
    "# write your code here!"
   ]
  },
  {
   "cell_type": "markdown",
   "metadata": {},
   "source": [
    "** 8. 신문사별로 '경제'라는 단어가 들어간 신문기사를 작성한 횟수를 출력해주세요. **"
   ]
  },
  {
   "cell_type": "code",
   "execution_count": 11,
   "metadata": {},
   "outputs": [],
   "source": [
    "# write your code here!"
   ]
  },
  {
   "cell_type": "markdown",
   "metadata": {},
   "source": [
    "** 9. '심벌'이라고 되어있는 단어를 전부 '심볼'이라고 바꿔주세요. **\n",
    "\n",
    "가령 \"심벌마크.구단명칭등 곧 결정키로\" 라는 문장은 \"심볼마크.구단명칭등 곧 결정키로 \" 가 되어야 합니다."
   ]
  },
  {
   "cell_type": "code",
   "execution_count": 12,
   "metadata": {},
   "outputs": [],
   "source": [
    "# write your code here!"
   ]
  },
  {
   "cell_type": "markdown",
   "metadata": {},
   "source": [
    "** 10. 9번에서 작업한 결과를 파이썬의 pickle을 활용해 임시로 저장해주세요. **\n",
    "\n",
    "파일명은 자유이지만, history 라는 이름의 폴더 안에 저장해주세요. 단 history라는 이름의 폴더가 존재하지 않는다면 파이썬 코드로 새로 만들어주셔야 합니다."
   ]
  },
  {
   "cell_type": "code",
   "execution_count": 13,
   "metadata": {
    "collapsed": true
   },
   "outputs": [],
   "source": [
    "# write your code here!"
   ]
  },
  {
   "cell_type": "markdown",
   "metadata": {},
   "source": [
    "## 실습(중급)"
   ]
  },
  {
   "cell_type": "markdown",
   "metadata": {},
   "source": [
    "** 11. 대전일보의 신문기사만 가져와 get_dummies로 쪼개주세요. 단어 갯수를 쪼개는 기준은 스페이스로 간주합니다. **"
   ]
  },
  {
   "cell_type": "code",
   "execution_count": 14,
   "metadata": {
    "collapsed": true
   },
   "outputs": [],
   "source": [
    "# write your code here!"
   ]
  },
  {
   "cell_type": "markdown",
   "metadata": {},
   "source": [
    "** 12. 11번에서 단어(column)에 2002년이라는게 포함된 컬럼만 보여주세요. **"
   ]
  },
  {
   "cell_type": "code",
   "execution_count": 15,
   "metadata": {
    "collapsed": true
   },
   "outputs": [],
   "source": [
    "# write your code here!"
   ]
  },
  {
   "cell_type": "markdown",
   "metadata": {},
   "source": [
    "** 13. 11번에서 단어(column)의 길이가 3개 이상인 컬럼만 보여주세요. **"
   ]
  },
  {
   "cell_type": "code",
   "execution_count": 16,
   "metadata": {
    "collapsed": true
   },
   "outputs": [],
   "source": [
    "# write your code here!"
   ]
  },
  {
   "cell_type": "markdown",
   "metadata": {},
   "source": [
    "** 14. 각 신문기사마다 전체 단어의 갯수를 세주세요. **\n",
    "\n",
    "여기서 단어의 갯수와 텍스트의 길이는 다릅니다. 가령 \"감자는 맛있어\" 에서 텍스트의 길이는 스페이스를 포함해 7개이지만, 단어의 갯수는 두 개로 간주합니다. 또한 문장을 단어로 쪼개는 기준은 스페이스로 가정합니다."
   ]
  },
  {
   "cell_type": "code",
   "execution_count": 17,
   "metadata": {
    "collapsed": true
   },
   "outputs": [],
   "source": [
    "# write your code here!"
   ]
  },
  {
   "cell_type": "markdown",
   "metadata": {},
   "source": [
    "** 15. 14번에서 단어의 갯수가 10개 미만인 데이터는 무시해주세요. **"
   ]
  },
  {
   "cell_type": "code",
   "execution_count": 18,
   "metadata": {
    "collapsed": true
   },
   "outputs": [],
   "source": [
    "# write your code here!"
   ]
  },
  {
   "cell_type": "markdown",
   "metadata": {},
   "source": [
    "## 실습(고급)"
   ]
  },
  {
   "cell_type": "markdown",
   "metadata": {},
   "source": [
    "** 16. 한글을 제외한 나머지(특수기호, 한자, 숫자)를 제거하시오. **"
   ]
  },
  {
   "cell_type": "code",
   "execution_count": 19,
   "metadata": {
    "collapsed": true
   },
   "outputs": [],
   "source": [
    "# write your code here!"
   ]
  },
  {
   "cell_type": "markdown",
   "metadata": {},
   "source": [
    "** 17. 한글과 숫자를 제외한 나머지(특수기호, 한자)를 제거하시오. **"
   ]
  },
  {
   "cell_type": "code",
   "execution_count": 20,
   "metadata": {
    "collapsed": true
   },
   "outputs": [],
   "source": [
    "# write your code here!"
   ]
  },
  {
   "cell_type": "markdown",
   "metadata": {},
   "source": [
    "** 18. get_dummies와 유사한 결과를 만들되, 문장을 스페이스가 아닌 konlpy를 사용하여 쪼개주세요. **\n",
    "\n",
    "[konlpy](http://konlpy.org/)는 한국어 형태소 분석기입니다. 문장을 단어로 쪼갤 때 스페이스로 쪼개는 것 보다 konlpy로 쪼개는게 훨씬 더 결과가 좋습니다. 자세한 내용과 사용법은 홈페이지에서 확인해주세요.\n",
    "\n",
    "단, 데이터가 너무 많기 때문에 ```get_dummies```를 할 떄는 전체 데이터중에 100개만 해주셔도 됩니다. (ex: ```data = data[0:100]```)"
   ]
  },
  {
   "cell_type": "code",
   "execution_count": 21,
   "metadata": {
    "collapsed": true
   },
   "outputs": [],
   "source": [
    "# write your code here!"
   ]
  },
  {
   "cell_type": "markdown",
   "metadata": {},
   "source": [
    "** 19. 18번 데이터에서, 전체 데이터 기준 단어 발생 빈도가 너무 높거나(1000번 초과), 너무 낮은(10번 미만) 컬럼은 제거하세요. **"
   ]
  },
  {
   "cell_type": "code",
   "execution_count": 22,
   "metadata": {
    "collapsed": true
   },
   "outputs": [],
   "source": [
    "# write your code here!"
   ]
  },
  {
   "cell_type": "markdown",
   "metadata": {},
   "source": [
    "** 20. 19번 데이터를 기준으로, 단어의 발생 빈도가 가장 높은 순으로 컬럼을 정렬해주세요. **"
   ]
  },
  {
   "cell_type": "code",
   "execution_count": 23,
   "metadata": {
    "collapsed": true
   },
   "outputs": [],
   "source": [
    "# write your code here!"
   ]
  }
 ],
 "metadata": {
  "kernelspec": {
   "display_name": "Python 3",
   "language": "python",
   "name": "python3"
  },
  "language_info": {
   "codemirror_mode": {
    "name": "ipython",
    "version": 3
   },
   "file_extension": ".py",
   "mimetype": "text/x-python",
   "name": "python",
   "nbconvert_exporter": "python",
   "pygments_lexer": "ipython3",
   "version": "3.6.3"
  }
 },
 "nbformat": 4,
 "nbformat_minor": 2
}
